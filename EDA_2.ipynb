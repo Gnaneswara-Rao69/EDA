{
  "nbformat": 4,
  "nbformat_minor": 0,
  "metadata": {
    "colab": {
      "provenance": []
    },
    "kernelspec": {
      "name": "python3",
      "display_name": "Python 3"
    },
    "language_info": {
      "name": "python"
    }
  },
  "cells": [
    {
      "cell_type": "markdown",
      "source": [
        "#Car Sale Dataset"
      ],
      "metadata": {
        "id": "sgLNDPz3nEit"
      }
    },
    {
      "cell_type": "markdown",
      "source": [
        "1.  What is the average selling price of cars for each dealer, and how does it compare across different dealers?"
      ],
      "metadata": {
        "id": "zMaJIH3FnKnk"
      }
    },
    {
      "cell_type": "code",
      "execution_count": null,
      "metadata": {
        "id": "RCPRF_d_m9Ki"
      },
      "outputs": [],
      "source": [
        "import pandas as pd\n",
        "\n",
        "# Load the dataset\n",
        "df = pd.read_csv('Car Sale.csv')\n",
        "\n",
        "# Calculate average selling price for each dealer\n",
        "avg_price_by_dealer = df.groupby('Dealer_Name')['Price ($)'].mean().reset_index()\n",
        "\n",
        "# Sort dealers by average price in descending order\n",
        "avg_price_by_dealer = avg_price_by_dealer.sort_values(by='Price ($)', ascending=False)\n",
        "\n",
        "# Print the results\n",
        "print(avg_price_by_dealer)\n"
      ]
    },
    {
      "cell_type": "markdown",
      "source": [
        "2. Which car brand (Company) has the highest variation in prices, and what does this tell us about the pricing\n",
        "trends?"
      ],
      "metadata": {
        "id": "-28bA_sdodT8"
      }
    },
    {
      "cell_type": "code",
      "source": [
        "import pandas as pd\n",
        "\n",
        "# Load the dataset\n",
        "df = pd.read_csv('Car Sale.csv')\n",
        "\n",
        "# Calculate price variation (standard deviation) for each company\n",
        "price_variation = df.groupby('Company')['Price ($)'].std().reset_index()\n",
        "\n",
        "# Sort companies by price variation in descending order\n",
        "price_variation = price_variation.sort_values(by='Price ($)', ascending=False)\n",
        "\n",
        "# Print the results\n",
        "print(price_variation)\n",
        "\n"
      ],
      "metadata": {
        "id": "RSYmHKj9okbR"
      },
      "execution_count": null,
      "outputs": []
    },
    {
      "cell_type": "markdown",
      "source": [
        "3.  What is the distribution of car prices for each transmission type, and how do the interquartile ranges\n",
        "compare?"
      ],
      "metadata": {
        "id": "hcvvptnupLwq"
      }
    },
    {
      "cell_type": "code",
      "source": [
        "import pandas as pd\n",
        "import matplotlib.pyplot as plt\n",
        "\n",
        "# Load the dataset\n",
        "df = pd.read_csv('Car Sale.csv')\n",
        "\n",
        "# Calculate summary statistics for each transmission type\n",
        "summary_stats = df.groupby('Transmission')['Price ($)'].describe()\n",
        "\n",
        "# Print the summary statistics\n",
        "print(summary_stats)\n",
        "\n",
        "# Plot the distribution of car prices for each transmission type\n",
        "plt.figure(figsize=(10, 6))\n",
        "plt.boxplot([df[df['Transmission'] == 'Manual']['Price ($)'],\n",
        "             df[df['Transmission'] == 'Automatic']['Price ($)']],\n",
        "            labels=['Manual', 'Automatic'])\n",
        "plt.ylabel('Price ($)')\n",
        "plt.title('Distribution of Car Prices by Transmission Type')\n",
        "plt.show()\n"
      ],
      "metadata": {
        "id": "Sdd4VeR7pmXh"
      },
      "execution_count": null,
      "outputs": []
    },
    {
      "cell_type": "markdown",
      "source": [
        "4. What is the distribution of car prices across different regions?"
      ],
      "metadata": {
        "id": "ytHHG0btprI-"
      }
    },
    {
      "cell_type": "code",
      "source": [
        "import pandas as pd\n",
        "import matplotlib.pyplot as plt\n",
        "\n",
        "# Load the dataset\n",
        "df = pd.read_csv('Car Sale.csv')\n",
        "\n",
        "# Calculate summary statistics for each region\n",
        "summary_stats = df.groupby('Dealer_Region')['Price ($)'].describe()\n",
        "\n",
        "# Print the summary statistics\n",
        "print(summary_stats)\n",
        "\n",
        "# Plot the distribution of car prices for each region\n",
        "plt.figure(figsize=(10, 6))\n",
        "plt.boxplot([df[df['Dealer_Region'] == region]['Price ($)'] for region in df['Dealer_Region'].unique()],\n",
        "            labels=df['Dealer_Region'].unique())\n",
        "plt.ylabel('Price ($)')\n",
        "plt.title('Distribution of Car Prices by Region')\n",
        "plt.xticks(rotation=90)\n",
        "plt.show()\n",
        "\n",
        "\n"
      ],
      "metadata": {
        "id": "GYaAuwchpwLS"
      },
      "execution_count": null,
      "outputs": []
    },
    {
      "cell_type": "markdown",
      "source": [
        "5. What is the distribution of cars based on body styles?"
      ],
      "metadata": {
        "id": "OwIH9hLbqdmx"
      }
    },
    {
      "cell_type": "code",
      "source": [
        "import pandas as pd\n",
        "import matplotlib.pyplot as plt\n",
        "\n",
        "# Load the dataset\n",
        "df = pd.read_csv('Car Sale.csv')\n",
        "\n",
        "# Calculate the distribution of cars by body style\n",
        "body_style_distribution = df['Body Style'].value_counts()\n",
        "\n",
        "# Print the distribution\n",
        "print(body_style_distribution)\n",
        "\n",
        "# Plot the distribution\n",
        "plt.figure(figsize=(10, 6))\n",
        "plt.bar(body_style_distribution.index, body_style_distribution.values)\n",
        "plt.xlabel('Body Style')\n",
        "plt.ylabel('Count')\n",
        "plt.title('Distribution of Cars by Body Style')\n",
        "plt.xticks(rotation=90)\n",
        "plt.show()\n",
        "\n"
      ],
      "metadata": {
        "id": "8YzFZr4yqimy"
      },
      "execution_count": null,
      "outputs": []
    },
    {
      "cell_type": "markdown",
      "source": [
        "6.  How does the average selling price of cars vary by customer gender and annual income?"
      ],
      "metadata": {
        "id": "3154wyThq9hI"
      }
    },
    {
      "cell_type": "code",
      "source": [
        "import pandas as pd\n",
        "import matplotlib.pyplot as plt\n",
        "\n",
        "# Load the dataset\n",
        "df = pd.read_csv('Car Sale.csv')\n",
        "\n",
        "# Calculate average selling price by gender and annual income\n",
        "avg_price_by_gender_income = df.groupby(['Gender', 'Annual Income'])['Price ($)'].mean().reset_index()\n",
        "\n",
        "# Pivot the data for easier visualization\n",
        "pivot_table = avg_price_by_gender_income.pivot(index='Annual Income', columns='Gender', values='Price ($)')\n",
        "\n",
        "# Plot the average prices\n",
        "plt.figure(figsize=(10, 6))\n",
        "plt.plot(pivot_table.index, pivot_table['Male'], label='Male')\n",
        "plt.plot(pivot_table.index, pivot_table['Female'], label='Female')\n",
        "plt.xlabel('Annual Income')\n",
        "plt.ylabel('Average Price ($)')\n",
        "plt.title('Average Selling Price by Gender and Annual Income')\n",
        "plt.legend()\n",
        "plt.show()\n"
      ],
      "metadata": {
        "id": "Qq-j0EdPrCX_"
      },
      "execution_count": null,
      "outputs": []
    },
    {
      "cell_type": "markdown",
      "source": [
        "7. What is the distribution of car prices by region, and how does the number of cars sold vary by region?"
      ],
      "metadata": {
        "id": "DZltHMjJruTr"
      }
    },
    {
      "cell_type": "code",
      "source": [
        "import pandas as pd\n",
        "import matplotlib.pyplot as plt\n",
        "\n",
        "# Load the dataset\n",
        "df = pd.read_csv('Car Sale.csv')\n",
        "\n",
        "# Calculate summary statistics for car prices by region\n",
        "price_stats_by_region = df.groupby('Dealer_Region')['Price ($)'].describe()\n",
        "\n",
        "# Calculate the number of cars sold by region\n",
        "cars_sold_by_region = df['Dealer_Region'].value_counts()\n",
        "\n",
        "# Print the results\n",
        "print(price_stats_by_region)\n",
        "print(cars_sold_by_region)\n",
        "\n",
        "# Plot the distribution of car prices by region\n",
        "plt.figure(figsize=(10, 6))\n",
        "plt.boxplot([df[df['Dealer_Region'] == region]['Price ($)'] for region in df['Dealer_Region'].unique()],\n",
        "            labels=df['Dealer_Region'].unique())\n",
        "plt.ylabel('Price ($)')\n",
        "plt.title('Distribution of Car Prices by Region')\n",
        "plt.xticks(rotation=90)\n",
        "plt.show()\n",
        "\n",
        "# Plot the number of cars sold by region\n",
        "plt.figure(figsize=(10, 6))\n",
        "plt.bar(cars_sold_by_region.index, cars_sold_by_region.values)\n",
        "plt.xlabel('Region')\n",
        "plt.ylabel('Number of Cars Sold')\n",
        "plt.title('Number of Cars Sold by Region')\n",
        "plt.xticks(rotation=90)\n",
        "plt.show()\n",
        "\n"
      ],
      "metadata": {
        "id": "-TpCco0hr0do"
      },
      "execution_count": null,
      "outputs": []
    },
    {
      "cell_type": "markdown",
      "source": [
        "8. How does the average car price differ between cars with different engine sizes?"
      ],
      "metadata": {
        "id": "gL7igabusjpq"
      }
    },
    {
      "cell_type": "code",
      "source": [
        "import pandas as pd\n",
        "import matplotlib.pyplot as plt\n",
        "\n",
        "# Load the dataset\n",
        "df = pd.read_csv('Car Sale.csv')\n",
        "\n",
        "# Calculate average price by engine type\n",
        "avg_price_by_engine = df.groupby('Engine')['Price ($)'].mean().reset_index()\n",
        "\n",
        "# Sort the results by average price\n",
        "avg_price_by_engine = avg_price_by_engine.sort_values(by='Price ($)', ascending=False)\n",
        "\n",
        "# Print the results\n",
        "print(avg_price_by_engine)\n",
        "\n",
        "# Plot the average prices\n",
        "plt.figure(figsize=(10, 6))\n",
        "plt.bar(avg_price_by_engine['Engine'], avg_price_by_engine['Price ($)'])\n",
        "plt.xlabel('Engine Type')\n",
        "plt.ylabel('Average Price ($)')\n",
        "plt.title('Average Car Price by Engine Type')\n",
        "plt.xticks(rotation=90)\n",
        "plt.show()\n"
      ],
      "metadata": {
        "id": "BZI_Q-6SsrOc"
      },
      "execution_count": null,
      "outputs": []
    },
    {
      "cell_type": "markdown",
      "source": [
        "9.  How do car prices vary based on the customer’s annual income bracket?"
      ],
      "metadata": {
        "id": "76vASY7Rs9hu"
      }
    },
    {
      "cell_type": "code",
      "source": [
        "import pandas as pd\n",
        "import matplotlib.pyplot as plt\n",
        "\n",
        "# Load the dataset\n",
        "df = pd.read_csv('Car Sale.csv')\n",
        "\n",
        "# Define income brackets\n",
        "bins = [0, 50000, 75000, 100000, float('inf')]\n",
        "labels = ['Low', 'Medium', 'High', 'Very High']\n",
        "df['Income Bracket'] = pd.cut(df['Annual Income'], bins=bins, labels=labels)\n",
        "\n",
        "# Calculate average price by income bracket\n",
        "avg_price_by_income = df.groupby('Income Bracket')['Price ($)'].mean().reset_index()\n",
        "\n",
        "# Print the results\n",
        "print(avg_price_by_income)\n",
        "\n",
        "# Plot the average prices\n",
        "plt.figure(figsize=(10, 6))\n",
        "plt.bar(avg_price_by_income['Income Bracket'], avg_price_by_income['Price ($)'])\n",
        "plt.xlabel('Income Bracket')\n",
        "plt.ylabel('Average Price ($)')\n",
        "plt.title('Average Car Price by Income Bracket')\n",
        "plt.show()\n"
      ],
      "metadata": {
        "id": "XkbWOPBstFXX"
      },
      "execution_count": null,
      "outputs": []
    },
    {
      "cell_type": "markdown",
      "source": [
        "10. What are the top 5 car models with the highest number of sales, and how does their price distribution look?"
      ],
      "metadata": {
        "id": "1d7sBHCvtxuA"
      }
    },
    {
      "cell_type": "code",
      "source": [
        "import pandas as pd\n",
        "import matplotlib.pyplot as plt\n",
        "\n",
        "# Load the dataset\n",
        "df = pd.read_csv('Car Sale.csv')\n",
        "\n",
        "# Calculate the number of sales for each car model\n",
        "sales_by_model = df['Model'].value_counts().head(5)\n",
        "\n",
        "# Print the top 5 car models\n",
        "print(sales_by_model)\n",
        "\n",
        "# Calculate the price distribution for each of the top 5 car models\n",
        "for model in sales_by_model.index:\n",
        "    model_prices = df[df['Model'] == model]['Price ($)']\n",
        "    print(f\"Price distribution for {model}:\")\n",
        "    print(model_prices.describe())\n",
        "\n",
        "# Plot the price distribution for each of the top 5 car models\n",
        "plt.figure(figsize=(10, 6))\n",
        "for model in sales_by_model.index:\n",
        "    model_prices = df[df['Model'] == model]['Price ($)']\n",
        "    plt.hist(model_prices, alpha=0.5, label=model)\n",
        "plt.xlabel('Price ($)')\n",
        "plt.ylabel('Frequency')\n",
        "plt.title('Price Distribution of Top 5 Car Models')\n",
        "plt.legend()\n",
        "plt.show()\n"
      ],
      "metadata": {
        "id": "UY8ViiTit21r"
      },
      "execution_count": null,
      "outputs": []
    },
    {
      "cell_type": "markdown",
      "source": [
        "11. How does car price vary with engine size across different car colors, and which colors have the highest price\n",
        "variation?"
      ],
      "metadata": {
        "id": "vhT_xl6TudWq"
      }
    },
    {
      "cell_type": "code",
      "source": [
        "import pandas as pd\n",
        "import matplotlib.pyplot as plt\n",
        "\n",
        "# Load the dataset\n",
        "df = pd.read_csv('Car Sale.csv')\n",
        "\n",
        "# Group by color and engine size, calculate average price\n",
        "avg_price_by_color_engine = df.groupby(['Color', 'Engine'])['Price ($)'].mean().reset_index()\n",
        "\n",
        "# Pivot the data for easier visualization\n",
        "pivot_table = avg_price_by_color_engine.pivot(index='Color', columns='Engine', values='Price ($)')\n",
        "\n",
        "# Calculate price variation for each color\n",
        "price_variation_by_color = pivot_table.std(axis=1).sort_values(ascending=False)\n",
        "\n",
        "# Print the results\n",
        "print(pivot_table)\n",
        "print(price_variation_by_color)\n",
        "\n",
        "# Plot the average prices\n",
        "plt.figure(figsize=(10, 6))\n",
        "pivot_table.plot(kind='bar')\n",
        "plt.xlabel('Color')\n",
        "plt.ylabel('Average Price ($)')\n",
        "plt.title('Average Car Price by Color and Engine Size')\n",
        "plt.legend(title='Engine Size')\n",
        "plt.show()\n",
        "\n",
        "# Plot the price variation by color\n",
        "plt.figure(figsize=(10, 6))\n",
        "price_variation_by_color.head(10).plot(kind='bar')\n",
        "plt.xlabel('Color')\n",
        "plt.ylabel('Price Variation')\n",
        "plt.title('Top 10 Colors by Price Variation')\n",
        "plt.show()\n",
        "\n"
      ],
      "metadata": {
        "id": "mL8WJvO2usl6"
      },
      "execution_count": null,
      "outputs": []
    },
    {
      "cell_type": "markdown",
      "source": [
        "12. Is there any seasonal trend in car sales based on the date of sale?"
      ],
      "metadata": {
        "id": "GX5iDZiNvfIu"
      }
    },
    {
      "cell_type": "code",
      "source": [
        "\n",
        "import pandas as pd\n",
        "import matplotlib.pyplot as plt\n",
        "\n",
        "# Load the dataset\n",
        "df = pd.read_csv('Car Sale.csv')\n",
        "\n",
        "# Convert date column to datetime format\n",
        "df['Date'] = pd.to_datetime(df['Date'])\n",
        "\n",
        "# Extract month and year from date column\n",
        "df['Month'] = df['Date'].dt.month\n",
        "df['Year'] = df['Date'].dt.year\n",
        "\n",
        "# Group by month and year, calculate number of sales\n",
        "sales_by_month_year = df.groupby(['Year', 'Month'])['Price ($)'].count().reset_index()\n",
        "\n",
        "# Pivot the data for easier visualization\n",
        "pivot_table = sales_by_month_year.pivot(index='Month', columns='Year', values='Price ($)')\n",
        "\n",
        "# Plot the sales trend\n",
        "plt.figure(figsize=(10, 6))\n",
        "pivot_table.plot(kind='line')\n",
        "plt.xlabel('Month')\n",
        "plt.ylabel('Number of Sales')\n",
        "plt.title('Car Sales Trend by Month and Year')\n",
        "plt.legend(title='Year')\n",
        "plt.show()\n"
      ],
      "metadata": {
        "id": "3EajNAzcvnZ7"
      },
      "execution_count": null,
      "outputs": []
    },
    {
      "cell_type": "markdown",
      "source": [
        "13. How does the car price distribution change when considering different combinations of body style and\n",
        "transmission type?"
      ],
      "metadata": {
        "id": "dBeWv2FVv74X"
      }
    },
    {
      "cell_type": "code",
      "source": [
        "import pandas as pd\n",
        "import matplotlib.pyplot as plt\n",
        "import seaborn as sns\n",
        "\n",
        "# Load the dataset\n",
        "df = pd.read_csv('Car Sale.csv')\n",
        "\n",
        "# Group by body style and transmission type, calculate summary statistics\n",
        "price_stats_by_body_transmission = df.groupby(['Body Style', 'Transmission Type'])['Price ($)'].describe()\n",
        "\n",
        "# Print the results\n",
        "print(price_stats_by_body_transmission)\n",
        "\n",
        "# Plot the price distribution\n",
        "plt.figure(figsize=(10, 6))\n",
        "sns.boxplot(x='Body Style', y='Price ($)', hue='Transmission Type', data=df)\n",
        "plt.title('Car Price Distribution by Body Style and Transmission Type')\n",
        "plt.xticks(rotation=90)\n",
        "plt.show()\n"
      ],
      "metadata": {
        "id": "DSbc23ZfwWSP"
      },
      "execution_count": null,
      "outputs": []
    },
    {
      "cell_type": "markdown",
      "source": [
        "14.  What is the correlation between car price, engine size, and annual income of customers, and how do these\n",
        "features interact?"
      ],
      "metadata": {
        "id": "6oCi00PXwaYN"
      }
    },
    {
      "cell_type": "code",
      "source": [
        "import pandas as pd\n",
        "import seaborn as sns\n",
        "import matplotlib.pyplot as plt\n",
        "\n",
        "# Load the dataset\n",
        "df = pd.read_csv('Car Sale.csv')\n",
        "\n",
        "# Calculate correlation matrix\n",
        "corr_matrix = df[['Price ($)', 'Engine Size', 'Annual Income']].corr()\n",
        "\n",
        "# Print the correlation matrix\n",
        "print(corr_matrix)\n",
        "\n",
        "# Plot the correlation heatmap\n",
        "plt.figure(figsize=(8, 6))\n",
        "sns.heatmap(corr_matrix, annot=True, cmap='coolwarm', square=True)\n",
        "plt.title('Correlation Between Car Price, Engine Size, and Annual Income')\n",
        "plt.show()\n",
        "\n",
        "# Plot scatter plots to visualize relationships\n",
        "sns.pairplot(df[['Price ($)', 'Engine Size', 'Annual Income']])\n",
        "plt.show()\n"
      ],
      "metadata": {
        "id": "QBoHy2DwwetV"
      },
      "execution_count": null,
      "outputs": []
    },
    {
      "cell_type": "markdown",
      "source": [
        "15. How does the average car price vary across different car models and engine types?\n"
      ],
      "metadata": {
        "id": "7p-TRXLtw5rl"
      }
    },
    {
      "cell_type": "code",
      "source": [
        "import pandas as pd\n",
        "import matplotlib.pyplot as plt\n",
        "\n",
        "# Load the dataset\n",
        "df = pd.read_csv('Car Sale.csv')\n",
        "\n",
        "# Group by model and engine type, calculate average price\n",
        "avg_price_by_model_engine = df.groupby(['Model', 'Engine Type'])['Price ($)'].mean().reset_index()\n",
        "\n",
        "# Print the results\n",
        "print(avg_price_by_model_engine)\n",
        "\n",
        "# Plot the average prices\n",
        "plt.figure(figsize=(10, 6))\n",
        "for model in df['Model'].unique():\n",
        "    model_df = avg_price_by_model_engine[avg_price_by_model_engine['Model'] == model]\n",
        "    plt.plot(model_df['Engine Type'], model_df['Price ($)'], label=model)\n",
        "plt.xlabel('Engine Type')\n",
        "plt.ylabel('Average Price ($)')\n",
        "plt.title('Average Car Price by Model and Engine Type')\n",
        "plt.legend()\n",
        "plt.show()\n",
        "\n"
      ],
      "metadata": {
        "id": "GQkzfup1xJVR"
      },
      "execution_count": null,
      "outputs": []
    }
  ]
}