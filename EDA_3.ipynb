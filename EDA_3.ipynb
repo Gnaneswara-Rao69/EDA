{
  "nbformat": 4,
  "nbformat_minor": 0,
  "metadata": {
    "colab": {
      "provenance": []
    },
    "kernelspec": {
      "name": "python3",
      "display_name": "Python 3"
    },
    "language_info": {
      "name": "python"
    }
  },
  "cells": [
    {
      "cell_type": "markdown",
      "source": [
        "#Amazon Sales Dataset"
      ],
      "metadata": {
        "id": "dMP-RYPIC3DD"
      }
    },
    {
      "cell_type": "markdown",
      "source": [
        "1. What is the average rating for each product category?"
      ],
      "metadata": {
        "id": "7nYvKTD8DS-I"
      }
    },
    {
      "cell_type": "code",
      "source": [
        "import pandas as pd\n",
        "\n",
        "# Load the dataset\n",
        "df = pd.read_csv('amazon.csv')\n",
        "\n",
        "# Group by category, calculate average rating\n",
        "avg_rating_by_category = df.groupby('category')['rating'].mean().reset_index()\n",
        "\n",
        "# Print the results\n",
        "print(avg_rating_by_category)\n",
        "\n",
        "# Sort the results by average rating in descending order\n",
        "avg_rating_by_category = avg_rating_by_category.sort_values(by='rating', ascending=False)\n",
        "\n",
        "# Print the top categories by average rating\n",
        "print(avg_rating_by_category.head())\n",
        "\n"
      ],
      "metadata": {
        "id": "l962jtpfD0aL"
      },
      "execution_count": null,
      "outputs": []
    },
    {
      "cell_type": "markdown",
      "source": [
        "2. What are the top rating_count products by category?"
      ],
      "metadata": {
        "id": "dD9b-MgZENQk"
      }
    },
    {
      "cell_type": "code",
      "execution_count": null,
      "metadata": {
        "id": "RvA33skkCpcl"
      },
      "outputs": [],
      "source": [
        "import pandas as pd\n",
        "\n",
        "# Load the dataset\n",
        "df = pd.read_csv('amazon.csv')\n",
        "\n",
        "# Group by category, calculate average rating count\n",
        "avg_rating_count_by_category = df.groupby('category')['rating_count'].mean().reset_index()\n",
        "\n",
        "# Sort the results by average rating count in descending order\n",
        "avg_rating_count_by_category = avg_rating_count_by_category.sort_values(by='rating_count', ascending=False)\n",
        "\n",
        "# Print the top categories by average rating count\n",
        "print(avg_rating_count_by_category.head())\n"
      ]
    },
    {
      "cell_type": "markdown",
      "source": [
        "3.  What is the distribution of discounted prices vs. actual prices?"
      ],
      "metadata": {
        "id": "PF1csKlYEjIE"
      }
    },
    {
      "cell_type": "code",
      "source": [
        "import pandas as pd\n",
        "import matplotlib.pyplot as plt\n",
        "\n",
        "# Load the dataset\n",
        "df = pd.read_csv('amazon.csv')\n",
        "\n",
        "# Calculate the discount amount\n",
        "df['discount_amount'] = df['actual_price'] - df['discounted_price']\n",
        "\n",
        "# Plot the distribution of discounted prices vs. actual prices\n",
        "plt.figure(figsize=(10, 6))\n",
        "plt.hist(df['actual_price'], alpha=0.5, label='Actual Price')\n",
        "plt.hist(df['discounted_price'], alpha=0.5, label='Discounted Price')\n",
        "plt.xlabel('Price')\n",
        "plt.ylabel('Frequency')\n",
        "plt.title('Distribution of Discounted Prices vs. Actual Prices')\n",
        "plt.legend()\n",
        "plt.show()\n",
        "\n",
        "# Plot the distribution of discount amounts\n",
        "plt.figure(figsize=(10, 6))\n",
        "plt.hist(df['discount_amount'], bins=50)\n",
        "plt.xlabel('Discount Amount')\n",
        "plt.ylabel('Frequency')\n",
        "plt.title('Distribution of Discount Amounts')\n",
        "plt.show()\n"
      ],
      "metadata": {
        "id": "bzV-ACiSFRs_"
      },
      "execution_count": null,
      "outputs": []
    },
    {
      "cell_type": "markdown",
      "source": [
        "4.  How does the average discount percentage vary across categories?"
      ],
      "metadata": {
        "id": "PmICzbwBGQRY"
      }
    },
    {
      "cell_type": "code",
      "source": [
        "import pandas as pd\n",
        "import matplotlib.pyplot as plt\n",
        "\n",
        "# Load the dataset\n",
        "df = pd.read_csv('amazon.csv')\n",
        "\n",
        "# Group by category, calculate average discount percentage\n",
        "avg_discount_by_category = df.groupby('category')['discount_percentage'].mean().reset_index()\n",
        "\n",
        "# Sort the results by average discount percentage in descending order\n",
        "avg_discount_by_category = avg_discount_by_category.sort_values(by='discount_percentage', ascending=False)\n",
        "\n",
        "# Print the results\n",
        "print(avg_discount_by_category)\n",
        "\n",
        "# Plot the average discount percentage by category\n",
        "plt.figure(figsize=(10, 6))\n",
        "plt.bar(avg_discount_by_category['category'], avg_discount_by_category['discount_percentage'])\n",
        "plt.xlabel('Category')\n",
        "plt.ylabel('Average Discount Percentage')\n",
        "plt.title('Average Discount Percentage by Category')\n",
        "plt.xticks(rotation=90)\n",
        "plt.show()\n"
      ],
      "metadata": {
        "id": "8L05g6G6GUuh"
      },
      "execution_count": null,
      "outputs": []
    },
    {
      "cell_type": "markdown",
      "source": [
        "5. What are the most popular product names?"
      ],
      "metadata": {
        "id": "kQrpaFlaHVLv"
      }
    },
    {
      "cell_type": "code",
      "source": [
        "import pandas as pd\n",
        "\n",
        "# Load the dataset\n",
        "df = pd.read_csv('amazon.csv')\n",
        "\n",
        "# Count the occurrences of each product name\n",
        "product_name_counts = df['product_name'].value_counts()\n",
        "\n",
        "# Print the top product names\n",
        "print(product_name_counts.head())\n",
        "\n",
        "# Get the top N product names\n",
        "N = 10\n",
        "top_product_names = product_name_counts.nlargest(N)\n",
        "print(top_product_names)\n",
        "\n",
        "\n"
      ],
      "metadata": {
        "id": "T6jrzRNDHaDI"
      },
      "execution_count": null,
      "outputs": []
    },
    {
      "cell_type": "markdown",
      "source": [
        "6. What are the most popular product keywords?"
      ],
      "metadata": {
        "id": "kT26F0s_H0x7"
      }
    },
    {
      "cell_type": "code",
      "source": [
        "import pandas as pd\n",
        "from collections import Counter\n",
        "import re\n",
        "\n",
        "# Load the dataset\n",
        "df = pd.read_csv('amazon.csv')\n",
        "\n",
        "# Combine product names and descriptions into a single column\n",
        "df['product_text'] = df['product_name'] + ' ' + df['about_product']\n",
        "\n",
        "# Convert text to lowercase and remove special characters\n",
        "df['product_text'] = df['product_text'].apply(lambda x: re.sub(r'[^a-zA-Z0-9\\s]', '', str(x).lower()))\n",
        "\n",
        "# Split text into words\n",
        "words = df['product_text'].str.split().sum()\n",
        "\n",
        "# Count the occurrences of each word\n",
        "word_counts = Counter(words)\n",
        "\n",
        "# Print the top words\n",
        "print(word_counts.most_common(10))\n",
        "\n"
      ],
      "metadata": {
        "id": "WzNZ-xX5H6gx"
      },
      "execution_count": null,
      "outputs": []
    },
    {
      "cell_type": "markdown",
      "source": [
        "7. What are the most popular product reviews?"
      ],
      "metadata": {
        "id": "bIDwuZDZI0NT"
      }
    },
    {
      "cell_type": "code",
      "source": [
        "import pandas as pd\n",
        "\n",
        "# Load the dataset\n",
        "df = pd.read_csv('amazon.csv')\n",
        "\n",
        "# Calculate the review helpfulness score (assuming 'rating' and 'rating_count' columns)\n",
        "df['helpfulness_score'] = df['rating'] * df['rating_count']\n",
        "\n",
        "# Sort the reviews by helpfulness score in descending order\n",
        "most_popular_reviews = df.sort_values(by='helpfulness_score', ascending=False)\n",
        "\n",
        "# Print the top reviews\n",
        "print(most_popular_reviews.head())\n",
        "\n",
        "# Alternatively, you can use 'review_content' length as a proxy for popularity\n",
        "df['review_length'] = df['review_content'].apply(len)\n",
        "most_popular_reviews = df.sort_values(by='review_length', ascending=False)\n",
        "print(most_popular_reviews.head())\n"
      ],
      "metadata": {
        "id": "6kZoRkRwI5Sa"
      },
      "execution_count": null,
      "outputs": []
    },
    {
      "cell_type": "markdown",
      "source": [
        "8. What is the correlation between discounted_price and rating?"
      ],
      "metadata": {
        "id": "mwyuKx-CLXSv"
      }
    },
    {
      "cell_type": "code",
      "source": [
        "import pandas as pd\n",
        "import seaborn as sns\n",
        "import matplotlib.pyplot as plt\n",
        "\n",
        "# Load the dataset\n",
        "df = pd.read_csv('amazon.csv')\n",
        "\n",
        "# Calculate the correlation between discounted_price and rating\n",
        "correlation = df['discounted_price'].corr(df['rating'])\n",
        "print(f'Correlation: {correlation:.2f}')\n",
        "\n",
        "# Visualize the relationship\n",
        "plt.figure(figsize=(8, 6))\n",
        "sns.scatterplot(x='discounted_price', y='rating', data=df)\n",
        "plt.title('Relationship between Discounted Price and Rating')\n",
        "plt.xlabel('Discounted Price')\n",
        "plt.ylabel('Rating')\n",
        "plt.show()\n",
        "\n"
      ],
      "metadata": {
        "id": "b6pkeW7XLcjJ"
      },
      "execution_count": null,
      "outputs": []
    },
    {
      "cell_type": "markdown",
      "source": [
        "9.  What are the Top 5 categories based on the highest rating?"
      ],
      "metadata": {
        "id": "QlmSl3-FLzs3"
      }
    },
    {
      "cell_type": "code",
      "source": [
        "import pandas as pd\n",
        "\n",
        "# Load the dataset\n",
        "df = pd.read_csv('amazon.csv')\n",
        "\n",
        "# Group by category, calculate average rating\n",
        "avg_rating_by_category = df.groupby('category')['rating'].mean().reset_index()\n",
        "\n",
        "# Sort the results by average rating in descending order\n",
        "top_categories = avg_rating_by_category.sort_values(by='rating', ascending=False).head(5)\n",
        "\n",
        "# Print the top categories\n",
        "print(top_categories)\n"
      ],
      "metadata": {
        "id": "7k2lwUHVL4jg"
      },
      "execution_count": null,
      "outputs": []
    },
    {
      "cell_type": "markdown",
      "source": [
        "10.  Identify any potential areas for improvement or optimization based on the data analysis."
      ],
      "metadata": {
        "id": "zx6dXQy5PvhB"
      }
    },
    {
      "cell_type": "code",
      "source": [
        "import pandas as pd\n",
        "\n",
        "# Load the dataset\n",
        "df = pd.read_csv('amazon.csv')\n",
        "\n",
        "# Analyze the data\n",
        "# Calculate average rating by category\n",
        "avg_rating_by_category = df.groupby('category')['rating'].mean().reset_index()\n",
        "\n",
        "# Identify categories with low average ratings\n",
        "low_rated_categories = avg_rating_by_category[avg_rating_by_category['rating'] < avg_rating_by_category['rating'].mean()]\n",
        "\n",
        "# Print the results\n",
        "print(low_rated_categories)\n",
        "\n",
        "# Analyze the relationship between discount percentage and rating\n",
        "correlation = df['discount_percentage'].corr(df['rating'])\n",
        "print(f'Correlation between discount percentage and rating: {correlation:.2f}')\n",
        "\n",
        "# Identify products with low ratings and high discount percentages\n",
        "low_rated_products = df[(df['rating'] < df['rating'].mean()) & (df['discount_percentage'] > df['discount_percentage'].mean())]\n",
        "\n",
        "# Print the results\n",
        "print(low_rated_products)\n",
        "\n"
      ],
      "metadata": {
        "id": "5CXVS81ZP5BQ"
      },
      "execution_count": null,
      "outputs": []
    }
  ]
}