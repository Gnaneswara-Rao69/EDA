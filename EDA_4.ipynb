{
  "nbformat": 4,
  "nbformat_minor": 0,
  "metadata": {
    "colab": {
      "provenance": []
    },
    "kernelspec": {
      "name": "python3",
      "display_name": "Python 3"
    },
    "language_info": {
      "name": "python"
    }
  },
  "cells": [
    {
      "cell_type": "markdown",
      "source": [
        "#Spotify Data: Popular Hip-hop Artists and Tracks"
      ],
      "metadata": {
        "id": "v126E6H2RqYP"
      }
    },
    {
      "cell_type": "markdown",
      "source": [
        "1. Read the dataframe, check null value if present then do the needful, check duplicate row , if present then do\n",
        "the needful."
      ],
      "metadata": {
        "id": "-fce9tu2UTjS"
      }
    },
    {
      "cell_type": "code",
      "source": [
        "import pandas as pd\n",
        "\n",
        "# Read the dataframe\n",
        "df = pd.read_csv('spotify.csv')\n",
        "\n",
        "# Check for null values\n",
        "null_values = df.isnull().sum()\n",
        "print(\"Null Values:\")\n",
        "print(null_values)\n",
        "\n",
        "# Handle null values (e.g., drop rows or fill with mean/median)\n",
        "if null_values.any():\n",
        "    # Option 1: Drop rows with null values\n",
        "    # df = df.dropna()\n",
        "\n",
        "    # Option 2: Fill null values with mean/median (for numeric columns)\n",
        "    numeric_cols = df.select_dtypes(include=['int64', 'float64']).columns\n",
        "    df[numeric_cols] = df[numeric_cols].fillna(df[numeric_cols].mean())\n",
        "\n",
        "    # Option 3: Fill null values with a specific value (e.g., 'Unknown' for categorical columns)\n",
        "    categorical_cols = df.select_dtypes(include=['object']).columns\n",
        "    df[categorical_cols] = df[categorical_cols].fillna('Unknown')\n",
        "\n",
        "# Check for duplicate rows\n",
        "duplicate_rows = df.duplicated().sum()\n",
        "print(f\"Duplicate Rows: {duplicate_rows}\")\n",
        "\n",
        "# Handle duplicate rows (e.g., drop duplicates)\n",
        "if duplicate_rows > 0:\n",
        "    df = df.drop_duplicates()\n",
        "\n",
        "# Verify the changes\n",
        "print(\"Updated Null Values:\")\n",
        "print(df.isnull().sum())\n",
        "print(f\"Updated Duplicate Rows: {df.duplicated().sum()}\")\n"
      ],
      "metadata": {
        "id": "Fp4H-_BAUbXq"
      },
      "execution_count": null,
      "outputs": []
    },
    {
      "cell_type": "markdown",
      "source": [
        "2. What is the distribution of popularity among the tracks in the dataset? Visualize it using a histogram."
      ],
      "metadata": {
        "id": "GC-5m625U6Pw"
      }
    },
    {
      "cell_type": "code",
      "execution_count": null,
      "metadata": {
        "id": "GCI1J_-SRLI4"
      },
      "outputs": [],
      "source": [
        "import pandas as pd\n",
        "import matplotlib.pyplot as plt\n",
        "import seaborn as sns\n",
        "\n",
        "# Load the dataset\n",
        "df = pd.read_csv('spotify.csv')\n",
        "\n",
        "# Plot the histogram\n",
        "plt.figure(figsize=(8, 6))\n",
        "sns.histplot(df['Popularity'], bins=20, kde=True)\n",
        "plt.title('Distribution of Track Popularity')\n",
        "plt.xlabel('Popularity')\n",
        "plt.ylabel('Count')\n",
        "plt.show()\n"
      ]
    },
    {
      "cell_type": "markdown",
      "source": [
        "3. Is there any relationship between the popularity and the duration of tracks? Explore this using a scatter plot."
      ],
      "metadata": {
        "id": "BGZnSvAAVfMU"
      }
    },
    {
      "cell_type": "code",
      "source": [
        "import pandas as pd\n",
        "import matplotlib.pyplot as plt\n",
        "import seaborn as sns\n",
        "\n",
        "# Load the dataset\n",
        "df = pd.read_csv('spotify.csv')\n",
        "\n",
        "# Convert duration from ms to minutes\n",
        "df['Duration (minutes)'] = df['Duration (ms)'] / 60000\n",
        "\n",
        "# Plot the scatter plot\n",
        "plt.figure(figsize=(8, 6))\n",
        "sns.scatterplot(x='Duration (minutes)', y='Popularity', data=df)\n",
        "plt.title('Relationship between Track Duration and Popularity')\n",
        "plt.xlabel('Duration (minutes)')\n",
        "plt.ylabel('Popularity')\n",
        "plt.show()\n",
        "\n",
        "# Calculate the correlation coefficient\n",
        "correlation = df['Duration (minutes)'].corr(df['Popularity'])\n",
        "print(f'Correlation coefficient: {correlation:.2f}')\n",
        "\n"
      ],
      "metadata": {
        "id": "0rQfvJHeVmQq"
      },
      "execution_count": null,
      "outputs": []
    },
    {
      "cell_type": "markdown",
      "source": [
        "4. Which artist has the highest number of tracks in the dataset? Display the count of tracks for each artist using\n",
        "a countplot."
      ],
      "metadata": {
        "id": "7MdmHnHNV796"
      }
    },
    {
      "cell_type": "code",
      "source": [
        "import pandas as pd\n",
        "import matplotlib.pyplot as plt\n",
        "import seaborn as sns\n",
        "\n",
        "# Load the dataset\n",
        "df = pd.read_csv('spotify.csv')\n",
        "\n",
        "# Count the number of tracks for each artist\n",
        "artist_track_count = df['Artist'].value_counts().reset_index()\n",
        "artist_track_count.columns = ['Artist', 'Track Count']\n",
        "\n",
        "# Get the artist with the highest number of tracks\n",
        "top_artist = artist_track_count.loc[artist_track_count['Track Count'].idxmax()]\n",
        "\n",
        "# Print the top artist\n",
        "print(f\"The artist with the highest number of tracks is {top_artist['Artist']} with {top_artist['Track Count']} tracks.\")\n",
        "\n",
        "# Plot the countplot for top 10 artists\n",
        "plt.figure(figsize=(10, 6))\n",
        "sns.countplot(x='Artist', data=df, order=df['Artist'].value_counts().head(10).index)\n",
        "plt.title('Count of Tracks for Top 10 Artists')\n",
        "plt.xlabel('Artist')\n",
        "plt.ylabel('Track Count')\n",
        "plt.xticks(rotation=90)\n",
        "plt.show()\n",
        "\n"
      ],
      "metadata": {
        "id": "uaaK58TJWBno"
      },
      "execution_count": null,
      "outputs": []
    },
    {
      "cell_type": "markdown",
      "source": [
        "5. What are the top 5 least popular tracks in the dataset? Provide the artist name and track name for each."
      ],
      "metadata": {
        "id": "drDhOaJ3WL0z"
      }
    },
    {
      "cell_type": "code",
      "source": [
        "import pandas as pd\n",
        "\n",
        "# Load the dataset\n",
        "df = pd.read_csv('spotify.csv')\n",
        "\n",
        "# Sort the tracks by popularity in ascending order\n",
        "least_popular_tracks = df.sort_values(by='Popularity', ascending=True).head(5)\n",
        "\n",
        "# Print the results\n",
        "print(least_popular_tracks[['Artist', 'Track Name', 'Popularity']])\n"
      ],
      "metadata": {
        "id": "1_cAn1oiWWLm"
      },
      "execution_count": null,
      "outputs": []
    },
    {
      "cell_type": "markdown",
      "source": [
        "6. Among the top 5 most popular artists, which artist has the highest popularity on average? Calculate and\n",
        "display the average popularity for each artist."
      ],
      "metadata": {
        "id": "PBevVuK7WtSW"
      }
    },
    {
      "cell_type": "code",
      "source": [
        "import pandas as pd\n",
        "\n",
        "# Load the dataset\n",
        "df = pd.read_csv('spotify.csv')\n",
        "\n",
        "# Calculate the average popularity for each artist\n",
        "avg_popularity_by_artist = df.groupby('Artist')['Popularity'].mean().reset_index()\n",
        "\n",
        "# Get the top 5 most popular artists\n",
        "top_artists = avg_popularity_by_artist.sort_values(by='Popularity', ascending=False).head(5)\n",
        "\n",
        "# Print the results\n",
        "print(top_artists)\n",
        "\n",
        "# Find the artist with the highest average popularity\n",
        "top_artist = top_artists.loc[top_artists['Popularity'].idxmax()]\n",
        "\n",
        "# Print the top artist\n",
        "print(f\"The artist with the highest average popularity is {top_artist['Artist']} with an average popularity of {top_artist['Popularity']:.2f}.\")\n",
        "\n"
      ],
      "metadata": {
        "id": "NPRzqaOIWzrs"
      },
      "execution_count": null,
      "outputs": []
    },
    {
      "cell_type": "markdown",
      "source": [
        "7. For the top 5 most popular artists, what are their most popular tracks? List the track name for each artist."
      ],
      "metadata": {
        "id": "vkO1lck8XCUq"
      }
    },
    {
      "cell_type": "code",
      "source": [
        "import pandas as pd\n",
        "\n",
        "# Load the dataset\n",
        "df = pd.read_csv('spotify.csv')\n",
        "\n",
        "# Calculate the average popularity for each artist\n",
        "avg_popularity_by_artist = df.groupby('Artist')['Popularity'].mean().reset_index()\n",
        "\n",
        "# Get the top 5 most popular artists\n",
        "top_artists = avg_popularity_by_artist.sort_values(by='Popularity', ascending=False).head(5)\n",
        "\n",
        "# Print the top artists\n",
        "print(top_artists)\n",
        "\n",
        "# Find the most popular track for each top artist\n",
        "for artist in top_artists['Artist']:\n",
        "    artist_tracks = df[df['Artist'] == artist]\n",
        "    most_popular_track = artist_tracks.loc[artist_tracks['Popularity'].idxmax()]\n",
        "    print(f\"Most popular track for {artist}: {most_popular_track['Track Name']} (Popularity: {most_popular_track['Popularity']})\")\n",
        "\n"
      ],
      "metadata": {
        "id": "mZvWmqejXJHU"
      },
      "execution_count": null,
      "outputs": []
    },
    {
      "cell_type": "markdown",
      "source": [
        "8. Visualize relationships between multiple numerical variables simultaneously using a pair plot."
      ],
      "metadata": {
        "id": "tlY2sf9mXXeV"
      }
    },
    {
      "cell_type": "code",
      "source": [
        "import pandas as pd\n",
        "import seaborn as sns\n",
        "import matplotlib.pyplot as plt\n",
        "\n",
        "# Load the dataset\n",
        "df = pd.read_csv('spotify.csv')\n",
        "\n",
        "# Select numerical columns\n",
        "numerical_cols = ['Popularity', 'Duration (ms)']\n",
        "df_numerical = df[numerical_cols]\n",
        "\n",
        "# Create a pair plot\n",
        "plt.figure(figsize=(8, 6))\n",
        "sns.pairplot(df_numerical)\n",
        "plt.show()\n"
      ],
      "metadata": {
        "id": "ebBTfxcEXfSb"
      },
      "execution_count": null,
      "outputs": []
    },
    {
      "cell_type": "markdown",
      "source": [
        "9. Does the duration of tracks vary significantly across different artists? Explore this visually using a box plot or\n",
        "violin plot."
      ],
      "metadata": {
        "id": "uOemgRZ1XvNW"
      }
    },
    {
      "cell_type": "code",
      "source": [
        "import pandas as pd\n",
        "import matplotlib.pyplot as plt\n",
        "import seaborn as sns\n",
        "\n",
        "# Load the dataset\n",
        "df = pd.read_csv('spotify.csv')\n",
        "\n",
        "# Convert duration from ms to minutes\n",
        "df['Duration (minutes)'] = df['Duration (ms)'] / 60000\n",
        "\n",
        "# Select top 5 artists by track count\n",
        "top_artists = df['Artist'].value_counts().head(5).index\n",
        "\n",
        "# Filter the dataframe to include only top artists\n",
        "df_top_artists = df[df['Artist'].isin(top_artists)]\n",
        "\n",
        "# Create a box plot\n",
        "plt.figure(figsize=(10, 6))\n",
        "sns.boxplot(x='Artist', y='Duration (minutes)', data=df_top_artists)\n",
        "plt.title('Track Duration Distribution Across Top Artists')\n",
        "plt.xlabel('Artist')\n",
        "plt.ylabel('Duration (minutes)')\n",
        "plt.show()\n",
        "\n",
        "# Alternatively, create a violin plot\n",
        "plt.figure(figsize=(10, 6))\n",
        "sns.violinplot(x='Artist', y='Duration (minutes)', data=df_top_artists)\n",
        "plt.title('Track Duration Distribution Across Top Artists')\n",
        "plt.xlabel('Artist')\n",
        "plt.ylabel('Duration (minutes)')\n",
        "plt.show()\n",
        "\n",
        "\n"
      ],
      "metadata": {
        "id": "i4adYMjZX1Tp"
      },
      "execution_count": null,
      "outputs": []
    },
    {
      "cell_type": "markdown",
      "source": [
        "10. How does the distribution of track popularity vary for different artists? Visualize this using a swarm plot or a\n",
        "violin plot.\n",
        "\n"
      ],
      "metadata": {
        "id": "foyi9tDuYF6p"
      }
    },
    {
      "cell_type": "code",
      "source": [
        "import pandas as pd\n",
        "import matplotlib.pyplot as plt\n",
        "import seaborn as sns\n",
        "\n",
        "# Load the dataset\n",
        "df = pd.read_csv('spotify.csv')\n",
        "\n",
        "# Select top 5 artists by track count\n",
        "top_artists = df['Artist'].value_counts().head(5).index\n",
        "\n",
        "# Filter the dataframe to include only top artists\n",
        "df_top_artists = df[df['Artist'].isin(top_artists)]\n",
        "\n",
        "# Create a swarm plot\n",
        "plt.figure(figsize=(10, 6))\n",
        "sns.swarmplot(x='Artist', y='Popularity', data=df_top_artists)\n",
        "plt.title('Track Popularity Distribution Across Top Artists')\n",
        "plt.xlabel('Artist')\n",
        "plt.ylabel('Popularity')\n",
        "plt.show()\n",
        "\n",
        "# Alternatively, create a violin plot\n",
        "plt.figure(figsize=(10, 6))\n",
        "sns.violinplot(x='Artist', y='Popularity', data=df_top_artists)\n",
        "plt.title('Track Popularity Distribution Across Top Artists')\n",
        "plt.xlabel('Artist')\n",
        "plt.ylabel('Popularity')\n",
        "plt.show()\n",
        "\n"
      ],
      "metadata": {
        "id": "0J7xnH9-YKJk"
      },
      "execution_count": null,
      "outputs": []
    }
  ]
}