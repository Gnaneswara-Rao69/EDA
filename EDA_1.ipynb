{
  "nbformat": 4,
  "nbformat_minor": 0,
  "metadata": {
    "colab": {
      "provenance": []
    },
    "kernelspec": {
      "name": "python3",
      "display_name": "Python 3"
    },
    "language_info": {
      "name": "python"
    }
  },
  "cells": [
    {
      "cell_type": "markdown",
      "source": [
        "# Bike Details Dataset"
      ],
      "metadata": {
        "id": "P_SCmthzXgpT"
      }
    },
    {
      "cell_type": "markdown",
      "source": [
        "1. What is the range of selling prices in the dataset?"
      ],
      "metadata": {
        "id": "MAM0TyKyXoAm"
      }
    },
    {
      "cell_type": "code",
      "source": [
        "import pandas as pd\n",
        "\n",
        "# Load the CSV file\n",
        "df = pd.read_csv('BIKE DETAILS.csv')\n",
        "\n",
        "# Calculate the range\n",
        "min_price = df['selling_price'].min()\n",
        "max_price = df['selling_price'].max()\n",
        "\n",
        "print(f\"Range: {min_price} to {max_price}\")\n"
      ],
      "metadata": {
        "id": "l3qvPzZgXxRV"
      },
      "execution_count": null,
      "outputs": []
    },
    {
      "cell_type": "markdown",
      "source": [
        "2. What is the median selling price for bikes in the dataset?"
      ],
      "metadata": {
        "id": "SOhZwUC9YFuO"
      }
    },
    {
      "cell_type": "code",
      "source": [
        "import pandas as pd\n",
        "\n",
        "# Load the dataset\n",
        "df = pd.read_csv('BIKE DETAILS.csv')\n",
        "\n",
        "# Calculate the median selling price\n",
        "median_price = df['selling_price'].median()\n",
        "\n",
        "print(median_price)\n",
        "\n"
      ],
      "metadata": {
        "id": "hgCpIJzGYKQI"
      },
      "execution_count": null,
      "outputs": []
    },
    {
      "cell_type": "markdown",
      "source": [
        "3. What is the most common seller type?"
      ],
      "metadata": {
        "id": "36hDQfr7Yfuz"
      }
    },
    {
      "cell_type": "code",
      "execution_count": null,
      "metadata": {
        "id": "I7-HGvv1Wxvq"
      },
      "outputs": [],
      "source": [
        "import pandas as pd\n",
        "\n",
        "# Load the dataset\n",
        "df = pd.read_csv('BIKE DETAILS.csv')\n",
        "\n",
        "# Find the most common seller type\n",
        "most_common_seller = df['seller_type'].value_counts().idxmax()\n",
        "\n",
        "print(most_common_seller)\n"
      ]
    },
    {
      "cell_type": "markdown",
      "source": [
        "4. How many bikes have driven more than 50,000 kilometers?"
      ],
      "metadata": {
        "id": "GitdubPpZCw-"
      }
    },
    {
      "cell_type": "code",
      "source": [
        "import pandas as pd\n",
        "\n",
        "# Load the dataset\n",
        "df = pd.read_csv('BIKE DETAILS.csv')\n",
        "\n",
        "# Count bikes with km_driven > 50000\n",
        "count = len(df[df['km_driven'] > 50000])\n",
        "\n",
        "print(count)\n"
      ],
      "metadata": {
        "id": "nDt1-9lTZSi3"
      },
      "execution_count": null,
      "outputs": []
    },
    {
      "cell_type": "markdown",
      "source": [
        "5. What is the average km_driven value for each ownership type?"
      ],
      "metadata": {
        "id": "GyC6XAqUZlm3"
      }
    },
    {
      "cell_type": "code",
      "source": [
        "import pandas as pd\n",
        "\n",
        "# Load the dataset\n",
        "df = pd.read_csv('BIKE DETAILS.csv')\n",
        "\n",
        "# Calculate average km_driven for each ownership type\n",
        "avg_km_driven = df.groupby('owner')['km_driven'].mean()\n",
        "\n",
        "print(avg_km_driven)\n",
        "\n",
        "\n"
      ],
      "metadata": {
        "id": "TvORz7QsZ5Vl"
      },
      "execution_count": null,
      "outputs": []
    },
    {
      "cell_type": "markdown",
      "source": [
        "6. What proportion of bikes are from the year 2015 or older?"
      ],
      "metadata": {
        "id": "Dnkjgd5EaAEV"
      }
    },
    {
      "cell_type": "code",
      "source": [
        "import pandas as pd\n",
        "\n",
        "# Load the dataset\n",
        "df = pd.read_csv('BIKE DETAILS.csv')\n",
        "\n",
        "# Calculate proportion of bikes from 2015 or older\n",
        "proportion = len(df[df['year'] <= 2015]) / len(df)\n",
        "\n",
        "print(proportion)\n"
      ],
      "metadata": {
        "id": "KztcVCCJaH7B"
      },
      "execution_count": null,
      "outputs": []
    },
    {
      "cell_type": "markdown",
      "source": [
        "7. What is the trend of missing values across the dataset?"
      ],
      "metadata": {
        "id": "_jIaUa-gaaWt"
      }
    },
    {
      "cell_type": "code",
      "source": [
        "import pandas as pd\n",
        "\n",
        "# Load the dataset\n",
        "df = pd.read_csv('BIKE DETAILS.csv')\n",
        "\n",
        "# Check for missing values\n",
        "missing_values = df.isnull().sum()\n",
        "\n",
        "print(missing_values)\n"
      ],
      "metadata": {
        "id": "n56_WKYLag9P"
      },
      "execution_count": null,
      "outputs": []
    },
    {
      "cell_type": "markdown",
      "source": [
        "8. What is the highest ex_showroom_price recorded, and for which bike?"
      ],
      "metadata": {
        "id": "v895CwTfatNB"
      }
    },
    {
      "cell_type": "code",
      "source": [
        "import pandas as pd\n",
        "\n",
        "# Load the dataset\n",
        "df = pd.read_csv('BIKE DETAILS.csv')\n",
        "\n",
        "# Find the highest ex_showroom_price and the corresponding bike\n",
        "max_price = df['ex_showroom_price'].max()\n",
        "bike = df.loc[df['ex_showroom_price'].idxmax()]['name']\n",
        "\n",
        "print(f\"Highest ex_showroom_price: {max_price}\")\n",
        "print(f\"Bike: {bike}\")\n"
      ],
      "metadata": {
        "id": "NLKg40DGazdQ"
      },
      "execution_count": null,
      "outputs": []
    },
    {
      "cell_type": "markdown",
      "source": [
        "9. What is the total number of bikes listed by each seller type?"
      ],
      "metadata": {
        "id": "7pkA84pHbX7O"
      }
    },
    {
      "cell_type": "code",
      "source": [
        "import pandas as pd\n",
        "\n",
        "# Load the dataset\n",
        "df = pd.read_csv('BIKE DETAILS.csv')\n",
        "\n",
        "# Count bikes listed by each seller type\n",
        "seller_counts = df['seller_type'].value_counts()\n",
        "\n",
        "print(seller_counts)\n"
      ],
      "metadata": {
        "id": "UiinhccebfTh"
      },
      "execution_count": null,
      "outputs": []
    },
    {
      "cell_type": "markdown",
      "source": [
        "10. What is the relationship between selling_price and km_driven for first-owner bikes?"
      ],
      "metadata": {
        "id": "dx2QomJnbsjr"
      }
    },
    {
      "cell_type": "code",
      "source": [
        "import pandas as pd\n",
        "import matplotlib.pyplot as plt\n",
        "\n",
        "# Load the dataset\n",
        "df = pd.read_csv('BIKE DETAILS.csv')\n",
        "\n",
        "# Filter first-owner bikes\n",
        "first_owner_bikes = df[(df['owner'] == '1st Owner') | (df['owner'] == 'First Owner')]\n",
        "\n",
        "# Calculate correlation\n",
        "correlation = first_owner_bikes['selling_price'].corr(first_owner_bikes['km_driven'])\n",
        "\n",
        "print(f\"Correlation: {correlation}\")\n",
        "\n",
        "# Visualize the relationship\n",
        "plt.scatter(first_owner_bikes['km_driven'], first_owner_bikes['selling_price'])\n",
        "plt.xlabel('km_driven')\n",
        "plt.ylabel('selling_price')\n",
        "plt.title('Relationship between selling_price and km_driven for First-Owner Bikes')\n",
        "plt.show()\n",
        "\n"
      ],
      "metadata": {
        "id": "WsDzKV8-b0Ky"
      },
      "execution_count": null,
      "outputs": []
    },
    {
      "cell_type": "markdown",
      "source": [
        "11. Identify and remove outliers in the km_driven column using the IQR method?"
      ],
      "metadata": {
        "id": "diDsNe5HcMic"
      }
    },
    {
      "cell_type": "code",
      "source": [
        "import pandas as pd\n",
        "\n",
        "# Load the dataset\n",
        "df = pd.read_csv('BIKE DETAILS.csv')\n",
        "\n",
        "# Calculate Q1 and Q3\n",
        "Q1 = df['km_driven'].quantile(0.25)\n",
        "Q3 = df['km_driven'].quantile(0.75)\n",
        "\n",
        "# Calculate IQR\n",
        "IQR = Q3 - Q1\n",
        "\n",
        "# Define lower and upper bounds\n",
        "lower_bound = Q1 - 1.5 * IQR\n",
        "upper_bound = Q3 + 1.5 * IQR\n",
        "\n",
        "# Identify outliers\n",
        "outliers = df[(df['km_driven'] < lower_bound) | (df['km_driven'] > upper_bound)]\n",
        "\n",
        "# Remove outliers\n",
        "df_cleaned = df[(df['km_driven'] >= lower_bound) & (df['km_driven'] <= upper_bound)]\n",
        "\n",
        "print(f\"Original dataset shape: {df.shape}\")\n",
        "print(f\"Cleaned dataset shape: {df_cleaned.shape}\")\n"
      ],
      "metadata": {
        "id": "vE9V_QAwcUct"
      },
      "execution_count": null,
      "outputs": []
    },
    {
      "cell_type": "markdown",
      "source": [
        "12. Perform a bivariate analysis to visualize the relationship between year and selling_price."
      ],
      "metadata": {
        "id": "qw713uVrcuq4"
      }
    },
    {
      "cell_type": "code",
      "source": [
        "import pandas as pd\n",
        "import matplotlib.pyplot as plt\n",
        "import seaborn as sns\n",
        "\n",
        "# Load the dataset\n",
        "df = pd.read_csv('BIKE DETAILS.csv')\n",
        "\n",
        "# Calculate correlation\n",
        "correlation = df['year'].corr(df['selling_price'])\n",
        "\n",
        "print(f\"Correlation: {correlation}\")\n",
        "\n",
        "# Visualize the relationship\n",
        "plt.figure(figsize=(10, 6))\n",
        "sns.scatterplot(x='year', y='selling_price', data=df)\n",
        "plt.title('Relationship between Year and Selling Price')\n",
        "plt.xlabel('Year')\n",
        "plt.ylabel('Selling Price')\n",
        "plt.show()\n",
        "\n"
      ],
      "metadata": {
        "id": "B55pkE3Sc1sv"
      },
      "execution_count": null,
      "outputs": []
    },
    {
      "cell_type": "markdown",
      "source": [
        "13. What is the average depreciation in selling price based on the bike's age (current year - manufacturing\n",
        "year)?"
      ],
      "metadata": {
        "id": "mIW02dRzdIAz"
      }
    },
    {
      "cell_type": "code",
      "source": [
        "import pandas as pd\n",
        "\n",
        "# Load the dataset\n",
        "df = pd.read_csv('BIKE DETAILS.csv')\n",
        "\n",
        "# Calculate bike's age (assuming current year is 2024)\n",
        "df['age'] = 2024 - df['year']\n",
        "\n",
        "# Calculate depreciation (assuming ex_showroom_price is the original price)\n",
        "df['depreciation'] = df['ex_showroom_price'] - df['selling_price']\n",
        "\n",
        "# Calculate average depreciation for each age group\n",
        "avg_depreciation = df.groupby('age')['depreciation'].mean()\n",
        "\n",
        "print(avg_depreciation)\n"
      ],
      "metadata": {
        "id": "DkvHmtJcdg1c"
      },
      "execution_count": null,
      "outputs": []
    },
    {
      "cell_type": "markdown",
      "source": [
        "14. Which bike names are priced significantly above the average price for their manufacturing year?"
      ],
      "metadata": {
        "id": "I58_54wFdkfr"
      }
    },
    {
      "cell_type": "code",
      "source": [
        "import pandas as pd\n",
        "\n",
        "# Load the dataset\n",
        "df = pd.read_csv('BIKE DETAILS.csv')\n",
        "\n",
        "# Calculate average price for each year\n",
        "avg_price_by_year = df.groupby('year')['selling_price'].mean().reset_index()\n",
        "\n",
        "# Merge average prices with original dataframe\n",
        "df = pd.merge(df, avg_price_by_year, on='year', suffixes=('', '_avg'))\n",
        "\n",
        "# Identify bikes priced significantly above average (e.g., 1.5 times above average)\n",
        "df_above_avg = df[df['selling_price'] > 1.5 * df['selling_price_avg']]\n",
        "\n",
        "# Print bike names and prices\n",
        "print(df_above_avg[['name', 'year', 'selling_price', 'selling_price_avg']])\n"
      ],
      "metadata": {
        "id": "9Bm_XvZre7KK"
      },
      "execution_count": null,
      "outputs": []
    },
    {
      "cell_type": "markdown",
      "source": [
        "15. Develop a correlation matrix for numeric columns and visualize it using a heatmap."
      ],
      "metadata": {
        "id": "Nk82C_SQfudB"
      }
    },
    {
      "cell_type": "code",
      "source": [
        "import pandas as pd\n",
        "import seaborn as sns\n",
        "import matplotlib.pyplot as plt\n",
        "\n",
        "# Load the dataset\n",
        "df = pd.read_csv('BIKE DETAILS.csv')\n",
        "\n",
        "# Select numeric columns\n",
        "numeric_cols = df.select_dtypes(include=['int64', 'float64']).columns\n",
        "\n",
        "# Calculate correlation matrix\n",
        "corr_matrix = df[numeric_cols].corr()\n",
        "\n",
        "# Visualize correlation matrix using heatmap\n",
        "plt.figure(figsize=(10, 8))\n",
        "sns.heatmap(corr_matrix, annot=True, cmap='coolwarm', square=True)\n",
        "plt.title('Correlation Matrix')\n",
        "plt.show()\n"
      ],
      "metadata": {
        "id": "lNKd2voegDCj"
      },
      "execution_count": null,
      "outputs": []
    }
  ]
}